{
 "cells": [
  {
   "cell_type": "markdown",
   "metadata": {},
   "source": [
    "# Analysis of Capomulin Efficacy for Treatment of SCC in Mice"
   ]
  },
  {
   "cell_type": "markdown",
   "metadata": {},
   "source": [
    "***"
   ]
  },
  {
   "cell_type": "markdown",
   "metadata": {},
   "source": [
    "![Laboratory](Images/Laboratory.jpg)"
   ]
  },
  {
   "cell_type": "markdown",
   "metadata": {},
   "source": [
    "***"
   ]
  },
  {
   "cell_type": "markdown",
   "metadata": {},
   "source": [
    "### Conclusion \n",
    "\n",
    "* Mice treated with Capomulin demonstrated the highest survival rate compare to the mice treated with the other eight treatment regimens used in the study (Fig. 1). Capomulin has the second lowest tumor volume median after Ramicane (Table 2). Survival rate of Ramicane regimen comes after Capomulin, however, its efficacy in the tumor volume reduction over the period of study is the highest out of all analyzed treatments.\n",
    "\n",
    "\n",
    "* Mice gender did not demonstrate any effect on efficacy of the studded treatments. Mice population used in the study had 50.2% of male mice versus 49.8% of female mice (Fig. 2) and decrease/increase in the tumor volume was demonstrated in both genders equally and depended only on the type of a regimen being used as a treatment.\n",
    "\n",
    "\n",
    "* Final tumor volume measerments of mice treated with Capomulin and Ramicane show that two mice out of twenty-five treated with Capomulin developed increase in the tumor volume (Table 3), while all twenty-five mice treated with Ramicane had reduction in the tumor volume (Table 4).\n",
    "\n",
    "\n",
    "* The observation of correlation between body weight and average tumor volume among mice treated with Capomulin showed that tumor volume directly relates to the weight of a tumor-bearing mouse. \n",
    "\n",
    "\n",
    "* Capomulin treated mice demonstrated strong improvement in the tumor volume by the end of the study and out of all analyzed regimens Capomulin provided second best results after Ramicane regimen. More study needs to be done to have a farther analysis of both treatments and to conclude effectiveness of Capomulin versus Ramicane."
   ]
  },
  {
   "cell_type": "markdown",
   "metadata": {},
   "source": [
    "***"
   ]
  },
  {
   "cell_type": "markdown",
   "metadata": {},
   "source": [
    "### Study Results and Mouse Metadata"
   ]
  },
  {
   "cell_type": "code",
   "execution_count": 24,
   "metadata": {},
   "outputs": [],
   "source": [
    "# Dependencies:\n",
    "import matplotlib.pyplot as plt\n",
    "plt.style.use('ggplot')\n",
    "import pandas as pd\n",
    "import scipy.stats as sts\n",
    "from scipy.stats import linregress\n",
    "from scipy import stats\n",
    "import numpy as np\n",
    "%matplotlib inline"
   ]
  },
  {
   "cell_type": "code",
   "execution_count": 25,
   "metadata": {},
   "outputs": [
    {
     "data": {
      "text/html": [
       "<div>\n",
       "<style scoped>\n",
       "    .dataframe tbody tr th:only-of-type {\n",
       "        vertical-align: middle;\n",
       "    }\n",
       "\n",
       "    .dataframe tbody tr th {\n",
       "        vertical-align: top;\n",
       "    }\n",
       "\n",
       "    .dataframe thead th {\n",
       "        text-align: right;\n",
       "    }\n",
       "</style>\n",
       "<table border=\"1\" class=\"dataframe\">\n",
       "  <thead>\n",
       "    <tr style=\"text-align: right;\">\n",
       "      <th></th>\n",
       "      <th>Mouse ID</th>\n",
       "      <th>Drug Regimen</th>\n",
       "      <th>Sex</th>\n",
       "      <th>Age (months)</th>\n",
       "      <th>Weight (g)</th>\n",
       "      <th>Timepoint</th>\n",
       "      <th>Tumor Volume (mm3)</th>\n",
       "      <th>Metastatic Sites</th>\n",
       "    </tr>\n",
       "  </thead>\n",
       "  <tbody>\n",
       "    <tr>\n",
       "      <th>0</th>\n",
       "      <td>k403</td>\n",
       "      <td>Ramicane</td>\n",
       "      <td>Male</td>\n",
       "      <td>21</td>\n",
       "      <td>16</td>\n",
       "      <td>0</td>\n",
       "      <td>45.000000</td>\n",
       "      <td>0</td>\n",
       "    </tr>\n",
       "    <tr>\n",
       "      <th>1</th>\n",
       "      <td>k403</td>\n",
       "      <td>Ramicane</td>\n",
       "      <td>Male</td>\n",
       "      <td>21</td>\n",
       "      <td>16</td>\n",
       "      <td>5</td>\n",
       "      <td>38.825898</td>\n",
       "      <td>0</td>\n",
       "    </tr>\n",
       "    <tr>\n",
       "      <th>2</th>\n",
       "      <td>k403</td>\n",
       "      <td>Ramicane</td>\n",
       "      <td>Male</td>\n",
       "      <td>21</td>\n",
       "      <td>16</td>\n",
       "      <td>10</td>\n",
       "      <td>35.014271</td>\n",
       "      <td>1</td>\n",
       "    </tr>\n",
       "    <tr>\n",
       "      <th>3</th>\n",
       "      <td>k403</td>\n",
       "      <td>Ramicane</td>\n",
       "      <td>Male</td>\n",
       "      <td>21</td>\n",
       "      <td>16</td>\n",
       "      <td>15</td>\n",
       "      <td>34.223992</td>\n",
       "      <td>1</td>\n",
       "    </tr>\n",
       "    <tr>\n",
       "      <th>4</th>\n",
       "      <td>k403</td>\n",
       "      <td>Ramicane</td>\n",
       "      <td>Male</td>\n",
       "      <td>21</td>\n",
       "      <td>16</td>\n",
       "      <td>20</td>\n",
       "      <td>32.997729</td>\n",
       "      <td>1</td>\n",
       "    </tr>\n",
       "  </tbody>\n",
       "</table>\n",
       "</div>"
      ],
      "text/plain": [
       "  Mouse ID Drug Regimen   Sex  Age (months)  Weight (g)  Timepoint  \\\n",
       "0     k403     Ramicane  Male            21          16          0   \n",
       "1     k403     Ramicane  Male            21          16          5   \n",
       "2     k403     Ramicane  Male            21          16         10   \n",
       "3     k403     Ramicane  Male            21          16         15   \n",
       "4     k403     Ramicane  Male            21          16         20   \n",
       "\n",
       "   Tumor Volume (mm3)  Metastatic Sites  \n",
       "0           45.000000                 0  \n",
       "1           38.825898                 0  \n",
       "2           35.014271                 1  \n",
       "3           34.223992                 1  \n",
       "4           32.997729                 1  "
      ]
     },
     "execution_count": 25,
     "metadata": {},
     "output_type": "execute_result"
    }
   ],
   "source": [
    "# Read the mouse data and the study results:\n",
    "mouse_metadata=pd.read_csv(\"Pymaceuticals/data/Mouse_metadata.csv\")\n",
    "#mouse_metadata\n",
    "study_results=pd.read_csv(\"Pymaceuticals/data/Study_results.csv\")\n",
    "#study_results\n",
    "\n",
    "# Combine the data into a single dataset:\n",
    "drug_regimen_results=pd.merge(mouse_metadata, study_results, on=\"Mouse ID\")\n",
    "drr=drug_regimen_results\n",
    "#drr.head()\n",
    "\n",
    "# Rename the 'Age_months' column:\n",
    "drr=drr.rename(columns={\"Age_months\":\"Age (months)\"})\n",
    "drr.head()"
   ]
  },
  {
   "cell_type": "markdown",
   "metadata": {},
   "source": [
    "###### Table 1"
   ]
  },
  {
   "cell_type": "markdown",
   "metadata": {},
   "source": [
    "***"
   ]
  },
  {
   "cell_type": "markdown",
   "metadata": {},
   "source": [
    "### Test Dataset"
   ]
  },
  {
   "cell_type": "code",
   "execution_count": 26,
   "metadata": {},
   "outputs": [],
   "source": [
    "# Get column data types:\n",
    "#drr.dtypes\n",
    "\n",
    "# Checking for missing values:\n",
    "#drr.isnull().sum()\n",
    "\n",
    "# Identify incomplete rows:\n",
    "#drr.count()"
   ]
  },
  {
   "cell_type": "markdown",
   "metadata": {},
   "source": [
    "***"
   ]
  },
  {
   "cell_type": "markdown",
   "metadata": {},
   "source": [
    "### Summary Statistics for Tumor Volume"
   ]
  },
  {
   "cell_type": "code",
   "execution_count": 27,
   "metadata": {},
   "outputs": [
    {
     "data": {
      "text/html": [
       "<div>\n",
       "<style scoped>\n",
       "    .dataframe tbody tr th:only-of-type {\n",
       "        vertical-align: middle;\n",
       "    }\n",
       "\n",
       "    .dataframe tbody tr th {\n",
       "        vertical-align: top;\n",
       "    }\n",
       "\n",
       "    .dataframe thead th {\n",
       "        text-align: right;\n",
       "    }\n",
       "</style>\n",
       "<table border=\"1\" class=\"dataframe\">\n",
       "  <thead>\n",
       "    <tr style=\"text-align: right;\">\n",
       "      <th></th>\n",
       "      <th>Volume Mean</th>\n",
       "      <th>Volume Median</th>\n",
       "      <th>Volume Variance</th>\n",
       "      <th>Volume Standard Deviation</th>\n",
       "      <th>Volume SEM</th>\n",
       "    </tr>\n",
       "    <tr>\n",
       "      <th>Drug Regimen</th>\n",
       "      <th></th>\n",
       "      <th></th>\n",
       "      <th></th>\n",
       "      <th></th>\n",
       "      <th></th>\n",
       "    </tr>\n",
       "  </thead>\n",
       "  <tbody>\n",
       "    <tr>\n",
       "      <th>Capomulin</th>\n",
       "      <td>40.675741</td>\n",
       "      <td>41.557809</td>\n",
       "      <td>24.947764</td>\n",
       "      <td>4.994774</td>\n",
       "      <td>0.329346</td>\n",
       "    </tr>\n",
       "    <tr>\n",
       "      <th>Ceftamin</th>\n",
       "      <td>52.591172</td>\n",
       "      <td>51.776157</td>\n",
       "      <td>39.290177</td>\n",
       "      <td>6.268188</td>\n",
       "      <td>0.469821</td>\n",
       "    </tr>\n",
       "    <tr>\n",
       "      <th>Infubinol</th>\n",
       "      <td>52.884795</td>\n",
       "      <td>51.820584</td>\n",
       "      <td>43.128684</td>\n",
       "      <td>6.567243</td>\n",
       "      <td>0.492236</td>\n",
       "    </tr>\n",
       "    <tr>\n",
       "      <th>Ketapril</th>\n",
       "      <td>55.235638</td>\n",
       "      <td>53.698743</td>\n",
       "      <td>68.553577</td>\n",
       "      <td>8.279709</td>\n",
       "      <td>0.603860</td>\n",
       "    </tr>\n",
       "    <tr>\n",
       "      <th>Naftisol</th>\n",
       "      <td>54.331565</td>\n",
       "      <td>52.509285</td>\n",
       "      <td>66.173479</td>\n",
       "      <td>8.134708</td>\n",
       "      <td>0.596466</td>\n",
       "    </tr>\n",
       "    <tr>\n",
       "      <th>Placebo</th>\n",
       "      <td>54.033581</td>\n",
       "      <td>52.288934</td>\n",
       "      <td>61.168083</td>\n",
       "      <td>7.821003</td>\n",
       "      <td>0.581331</td>\n",
       "    </tr>\n",
       "    <tr>\n",
       "      <th>Propriva</th>\n",
       "      <td>52.322552</td>\n",
       "      <td>50.854632</td>\n",
       "      <td>42.351070</td>\n",
       "      <td>6.507770</td>\n",
       "      <td>0.512884</td>\n",
       "    </tr>\n",
       "    <tr>\n",
       "      <th>Ramicane</th>\n",
       "      <td>40.216745</td>\n",
       "      <td>40.673236</td>\n",
       "      <td>23.486704</td>\n",
       "      <td>4.846308</td>\n",
       "      <td>0.320955</td>\n",
       "    </tr>\n",
       "    <tr>\n",
       "      <th>Stelasyn</th>\n",
       "      <td>54.233149</td>\n",
       "      <td>52.431737</td>\n",
       "      <td>59.450562</td>\n",
       "      <td>7.710419</td>\n",
       "      <td>0.573111</td>\n",
       "    </tr>\n",
       "    <tr>\n",
       "      <th>Zoniferol</th>\n",
       "      <td>53.236507</td>\n",
       "      <td>51.818479</td>\n",
       "      <td>48.533355</td>\n",
       "      <td>6.966589</td>\n",
       "      <td>0.516398</td>\n",
       "    </tr>\n",
       "  </tbody>\n",
       "</table>\n",
       "</div>"
      ],
      "text/plain": [
       "              Volume Mean  Volume Median  Volume Variance  \\\n",
       "Drug Regimen                                                \n",
       "Capomulin       40.675741      41.557809        24.947764   \n",
       "Ceftamin        52.591172      51.776157        39.290177   \n",
       "Infubinol       52.884795      51.820584        43.128684   \n",
       "Ketapril        55.235638      53.698743        68.553577   \n",
       "Naftisol        54.331565      52.509285        66.173479   \n",
       "Placebo         54.033581      52.288934        61.168083   \n",
       "Propriva        52.322552      50.854632        42.351070   \n",
       "Ramicane        40.216745      40.673236        23.486704   \n",
       "Stelasyn        54.233149      52.431737        59.450562   \n",
       "Zoniferol       53.236507      51.818479        48.533355   \n",
       "\n",
       "              Volume Standard Deviation  Volume SEM  \n",
       "Drug Regimen                                         \n",
       "Capomulin                      4.994774    0.329346  \n",
       "Ceftamin                       6.268188    0.469821  \n",
       "Infubinol                      6.567243    0.492236  \n",
       "Ketapril                       8.279709    0.603860  \n",
       "Naftisol                       8.134708    0.596466  \n",
       "Placebo                        7.821003    0.581331  \n",
       "Propriva                       6.507770    0.512884  \n",
       "Ramicane                       4.846308    0.320955  \n",
       "Stelasyn                       7.710419    0.573111  \n",
       "Zoniferol                      6.966589    0.516398  "
      ]
     },
     "execution_count": 27,
     "metadata": {},
     "output_type": "execute_result"
    }
   ],
   "source": [
    "# Create GroupBy object based upon \"Drug Regimen\" column:\n",
    "grouped_by_drug_df=drr.groupby(['Drug Regimen'])\n",
    "#grouped_by_drug_df.count().head(15)\n",
    "\n",
    "# Calculate mean, median, variance, standard deviation, and sem of the tumor volume for each drug: \n",
    "volume_mean=grouped_by_drug_df['Tumor Volume (mm3)'].mean()\n",
    "#volume_mean\n",
    "volume_median=grouped_by_drug_df['Tumor Volume (mm3)'].median()\n",
    "#volume_median\n",
    "volume_variance=grouped_by_drug_df['Tumor Volume (mm3)'].var()\n",
    "#volume_variance\n",
    "volume_std_deviation=grouped_by_drug_df['Tumor Volume (mm3)'].std()\n",
    "#volume_std_deviation\n",
    "volume_sem=grouped_by_drug_df['Tumor Volume (mm3)'].sem()\n",
    "#volume_sem\n",
    "\n",
    "# Summary statistics data frame for change in tumor volume for each drug:\n",
    "t_volume_stats=pd.DataFrame({\n",
    "    'Volume Mean': volume_mean,\n",
    "    'Volume Median': volume_median,\n",
    "    'Volume Variance': volume_variance,\n",
    "    'Volume Standard Deviation': volume_std_deviation,\n",
    "    'Volume SEM': volume_sem\n",
    "})\n",
    "\n",
    "t_volume_stats"
   ]
  },
  {
   "cell_type": "markdown",
   "metadata": {},
   "source": [
    "###### Table 2"
   ]
  },
  {
   "cell_type": "markdown",
   "metadata": {},
   "source": [
    "***"
   ]
  },
  {
   "cell_type": "markdown",
   "metadata": {},
   "source": [
    "### Data Points in Each Treatment Regimen"
   ]
  },
  {
   "cell_type": "code",
   "execution_count": 28,
   "metadata": {},
   "outputs": [],
   "source": [
    "# Count how many data points in each drug:\n",
    "d_data_points=grouped_by_drug_df['Drug Regimen'].count().sort_values(ascending=False)\n",
    "#d_data_points"
   ]
  },
  {
   "cell_type": "markdown",
   "metadata": {},
   "source": [
    "***"
   ]
  },
  {
   "cell_type": "markdown",
   "metadata": {},
   "source": [
    "#### Pandas Bar Plot"
   ]
  },
  {
   "cell_type": "code",
   "execution_count": 29,
   "metadata": {},
   "outputs": [
    {
     "data": {
      "image/png": "[encoded data removed]",
      "text/plain": [
       "<Figure size 648x432 with 1 Axes>"
      ]
     },
     "metadata": {
      "needs_background": "light"
     },
     "output_type": "display_data"
    }
   ],
   "source": [
    "# Create a bar chart using pandas:\n",
    "data_points_chart_1=d_data_points.plot(kind='bar', figsize=(9, 6), color=['darkblue','mediumblue','royalblue','cornflowerblue','lightsteelblue','#008DB8','#00AAAA','#00C69C','#00E28E','#00FF80'], alpha=1, edgecolor='gray', align=\"center\")\n",
    "\n",
    "# Set x-label, y-label, and a title:\n",
    "data_points_chart_1.set_title('Number of Data Points for Each Treatment',fontsize=20)\n",
    "data_points_chart_1.set_xlabel('Drug Regimen',fontsize=16, color='black')\n",
    "data_points_chart_1.set_ylabel(\"Number of Data Points\",fontsize=16, color='black')\n",
    "\n",
    "# Set tick marks:\n",
    "for tick in data_points_chart_1.get_xticklabels():\n",
    "    tick.set_fontsize(12)\n",
    "    tick.set_rotation(40)\n",
    "    tick.set_color('black')\n",
    "for tick in data_points_chart_1.get_yticklabels():\n",
    "    tick.set_fontsize(12)\n",
    "    tick.set_color('black')\n",
    "\n",
    "# Set y limits:\n",
    "plt.ylim(0, 250)\n",
    "\n",
    "plt.show()"
   ]
  },
  {
   "cell_type": "markdown",
   "metadata": {},
   "source": [
    "###### Fig. 1"
   ]
  },
  {
   "cell_type": "markdown",
   "metadata": {},
   "source": [
    "***"
   ]
  },
  {
   "cell_type": "markdown",
   "metadata": {},
   "source": [
    "#### Matplotlib Bar Plot"
   ]
  },
  {
   "cell_type": "code",
   "execution_count": 32,
   "metadata": {},
   "outputs": [
    {
     "data": {
      "image/png": "[encoded data removed]",
      "text/plain": [
       "<Figure size 648x432 with 1 Axes>"
      ]
     },
     "metadata": {
      "needs_background": "light"
     },
     "output_type": "display_data"
    }
   ],
   "source": [
    "# Create a bar chart using matplotlib:\n",
    "x_axis = np.arange(len(d_data_points))\n",
    "data_points_chart_2=plt.bar(x_axis, d_data_points, color=['darkblue','mediumblue','royalblue','cornflowerblue','lightsteelblue','#008DB8','#00AAAA','#00C69C','#00E28E','#00FF80'], alpha=1, edgecolor='gray',align=\"center\", width=.5)\n",
    "\n",
    "# Set tick marks for x:\n",
    "drug_name=['Capomulin','Ramicane','Ketapril','Naftisol','Zoniferol','Stelasyn','Placebo','Infubinol','Ceftamin','Propriva'] # Find the way to use df for this step to eliminate manual drug inpt ***start with: drug_name=drr['Drug Regimen'].unique()***\n",
    "tick_locations = [value for value in x_axis]\n",
    "plt.xticks(tick_locations, drug_name, rotation=40, color='black', size=12)\n",
    "plt.yticks(color='black', size=12)\n",
    "\n",
    "# Set the limits of the y axis:\n",
    "plt.ylim(0, max(d_data_points)+20)\n",
    "\n",
    "# Set the limits of the x axis:\n",
    "plt.xlim(-0.50, len(x_axis)-0.50)\n",
    "\n",
    "# Set a title, x-label, and y-label:\n",
    "plt.title('Number of Data Points for Each Treatment',fontsize=20)\n",
    "plt.xlabel('Drug Regimen',fontsize=16, color='black')\n",
    "plt.ylabel(\"Number of Data Points\",fontsize=16, color='black')\n",
    "\n",
    "plt.show()"
   ]
  },
  {
   "cell_type": "code",
   "execution_count": 33,
   "metadata": {},
   "outputs": [],
   "source": [
    "# Change plot size:\n",
    "plt.rcParams['figure.figsize']=(9,6)\n",
    "# Run the above cell again."
   ]
  },
  {
   "cell_type": "markdown",
   "metadata": {},
   "source": [
    "***"
   ]
  },
  {
   "cell_type": "markdown",
   "metadata": {},
   "source": [
    "### Distribution of Female vs Male Mice in The Study"
   ]
  },
  {
   "cell_type": "code",
   "execution_count": 34,
   "metadata": {},
   "outputs": [],
   "source": [
    "# Extract total amount of mice in the study by its ID:\n",
    "total_mouse_count=drr['Mouse ID'].nunique()\n",
    "#total_mouse_count\n",
    "\n",
    "# Extract total amount of female mice:\n",
    "total_female_mice=drr.loc[drr['Sex']=='Female',:].nunique().iloc[0]\n",
    "#total_female_mice\n",
    "\n",
    "# Extract total amount of male mice:\n",
    "total_male_mice=drr.loc[drr['Sex']=='Male',:].nunique().iloc[0]\n",
    "#total_male_mice\n",
    "\n",
    "# Percentage of male and female mice in the study:\n",
    "male_pct=(total_male_mice/total_mouse_count)*100\n",
    "#male_pct #*****\n",
    "\n",
    "female_pct=(total_female_mice/total_mouse_count)*100\n",
    "#female_pct #*****\n",
    "\n",
    "# Create data frame for female and male mice distribution:\n",
    "distribution_by_sex_df=pd.DataFrame({\n",
    "    'Distribution': [male_pct, female_pct]},\n",
    "    index=['Male','Female'])\n",
    "\n",
    "#distribution_by_sex_df"
   ]
  },
  {
   "cell_type": "markdown",
   "metadata": {},
   "source": [
    "***"
   ]
  },
  {
   "cell_type": "markdown",
   "metadata": {},
   "source": [
    "#### Pandas Pie Chart"
   ]
  },
  {
   "cell_type": "code",
   "execution_count": 41,
   "metadata": {},
   "outputs": [
    {
     "data": {
      "image/png": "[encoded data removed]",
      "text/plain": [
       "<Figure size 432x432 with 1 Axes>"
      ]
     },
     "metadata": {},
     "output_type": "display_data"
    }
   ],
   "source": [
    "# Create a pie chart for female vs male mice distribution using pandas:\n",
    "colors=['royalblue','lightsteelblue']\n",
    "explode=(0,0.05)\n",
    "pie_1=distribution_by_sex_df.plot(kind=\"pie\", y='Distribution', figsize=(6,6), colors=colors,\n",
    "                                  startangle=140, explode=explode, shadow=True, fontsize=16,\n",
    "                                  autopct=\"%1.1f%%\")\n",
    "pie_1.set_title('Distribution of Female vs Male Mice in The Study', fontsize=20)\n",
    "pie_1.set_ylabel('')\n",
    "plt.axis('equal')\n",
    "plt.legend('',frameon=False)\n",
    "\n",
    "plt.show()"
   ]
  },
  {
   "cell_type": "markdown",
   "metadata": {},
   "source": [
    "###### Fig. 2"
   ]
  },
  {
   "cell_type": "markdown",
   "metadata": {},
   "source": [
    "***"
   ]
  },
  {
   "cell_type": "markdown",
   "metadata": {},
   "source": [
    "#### Matplotlib Pie Chart"
   ]
  },
  {
   "cell_type": "code",
   "execution_count": 44,
   "metadata": {},
   "outputs": [
    {
     "data": {
      "image/png": "[encoded data removed]",
      "text/plain": [
       "<Figure size 432x432 with 1 Axes>"
      ]
     },
     "metadata": {},
     "output_type": "display_data"
    }
   ],
   "source": [
    "# Create a pie chart for female vs male mice distribution using matplotlib:\n",
    "explode=(0,0.05)\n",
    "colors=['royalblue','lightsteelblue']\n",
    "data=distribution_by_sex_df['Distribution']\n",
    "pie_2=plt.pie(data, colors=colors, explode=explode, shadow=True, startangle=140,\n",
    "              labels=['Male', 'Female'], autopct=\"%1.1f%%\")\n",
    "plt.title('Distribution of Female vs Male Mice in The Study', fontsize=20)\n",
    "#plt.legend(labels=data.index, loc=\"best\")\n",
    "plt.axis(\"equal\")\n",
    "plt.rcParams['figure.figsize']=(6,6)\n",
    "plt.rcParams['font.size']=(16)\n",
    "\n",
    "plt.show()\n",
    "\n",
    "# Run this cell 2 times"
   ]
  },
  {
   "cell_type": "markdown",
   "metadata": {},
   "source": [
    "***"
   ]
  },
  {
   "cell_type": "markdown",
   "metadata": {},
   "source": [
    "### Final Tumor Volume of Each Mouse Treated with Capomulin, Ramicane,  Infubinol, and Ceftamin"
   ]
  },
  {
   "cell_type": "code",
   "execution_count": 45,
   "metadata": {},
   "outputs": [],
   "source": [
    "# Extruct columns of interest from original data frame:\n",
    "new_drr_df=drr[['Mouse ID','Drug Regimen','Timepoint','Tumor Volume (mm3)']]\n",
    "#new_drr_df.head(10)"
   ]
  },
  {
   "cell_type": "code",
   "execution_count": 46,
   "metadata": {},
   "outputs": [],
   "source": [
    "# Sort new dataframe to extract final timepoint for each mouse ID:\n",
    "sorted_mouseid_timepoint_df=new_drr_df.sort_values(['Mouse ID','Timepoint'], ascending=False) # Sort new dataframe by columns 'Mouse ID' and 'Timepoint'.\n",
    "sorted_mouseid_timepoint_df\n",
    "\n",
    "no_dupl_sorted_df=sorted_mouseid_timepoint_df.drop_duplicates(subset='Mouse ID') # Drop duplicates in column 'Mouse ID' to leave only IDs with final timepoints (*** this can be used as well--> df.drop_duplicates(subset='Mouse ID', keep='first')***).\n",
    "#no_dupl_sorted_df"
   ]
  },
  {
   "cell_type": "markdown",
   "metadata": {},
   "source": [
    "***"
   ]
  },
  {
   "cell_type": "markdown",
   "metadata": {},
   "source": [
    "#### Final Tumor Volume of Each Mouse Treated with Capomulin"
   ]
  },
  {
   "cell_type": "code",
   "execution_count": 64,
   "metadata": {},
   "outputs": [
    {
     "data": {
      "text/html": [
       "<div>\n",
       "<style scoped>\n",
       "    .dataframe tbody tr th:only-of-type {\n",
       "        vertical-align: middle;\n",
       "    }\n",
       "\n",
       "    .dataframe tbody tr th {\n",
       "        vertical-align: top;\n",
       "    }\n",
       "\n",
       "    .dataframe thead th {\n",
       "        text-align: right;\n",
       "    }\n",
       "</style>\n",
       "<table border=\"1\" class=\"dataframe\">\n",
       "  <thead>\n",
       "    <tr style=\"text-align: right;\">\n",
       "      <th></th>\n",
       "      <th>Mouse ID</th>\n",
       "      <th>Drug Regimen</th>\n",
       "      <th>Timepoint</th>\n",
       "      <th>Tumor Volume (mm3)</th>\n",
       "    </tr>\n",
       "  </thead>\n",
       "  <tbody>\n",
       "    <tr>\n",
       "      <th>309</th>\n",
       "      <td>b128</td>\n",
       "      <td>Capomulin</td>\n",
       "      <td>45</td>\n",
       "      <td>38.982878</td>\n",
       "    </tr>\n",
       "    <tr>\n",
       "      <th>299</th>\n",
       "      <td>b742</td>\n",
       "      <td>Capomulin</td>\n",
       "      <td>45</td>\n",
       "      <td>38.939633</td>\n",
       "    </tr>\n",
       "    <tr>\n",
       "      <th>64</th>\n",
       "      <td>f966</td>\n",
       "      <td>Capomulin</td>\n",
       "      <td>20</td>\n",
       "      <td>30.485985</td>\n",
       "    </tr>\n",
       "    <tr>\n",
       "      <th>244</th>\n",
       "      <td>g288</td>\n",
       "      <td>Capomulin</td>\n",
       "      <td>45</td>\n",
       "      <td>37.074024</td>\n",
       "    </tr>\n",
       "    <tr>\n",
       "      <th>360</th>\n",
       "      <td>g316</td>\n",
       "      <td>Capomulin</td>\n",
       "      <td>45</td>\n",
       "      <td>40.159220</td>\n",
       "    </tr>\n",
       "    <tr>\n",
       "      <th>440</th>\n",
       "      <td>i557</td>\n",
       "      <td>Capomulin</td>\n",
       "      <td>45</td>\n",
       "      <td>47.685963</td>\n",
       "    </tr>\n",
       "    <tr>\n",
       "      <th>204</th>\n",
       "      <td>i738</td>\n",
       "      <td>Capomulin</td>\n",
       "      <td>45</td>\n",
       "      <td>37.311846</td>\n",
       "    </tr>\n",
       "    <tr>\n",
       "      <th>337</th>\n",
       "      <td>j119</td>\n",
       "      <td>Capomulin</td>\n",
       "      <td>45</td>\n",
       "      <td>38.125164</td>\n",
       "    </tr>\n",
       "    <tr>\n",
       "      <th>317</th>\n",
       "      <td>j246</td>\n",
       "      <td>Capomulin</td>\n",
       "      <td>35</td>\n",
       "      <td>38.753265</td>\n",
       "    </tr>\n",
       "    <tr>\n",
       "      <th>380</th>\n",
       "      <td>l509</td>\n",
       "      <td>Capomulin</td>\n",
       "      <td>45</td>\n",
       "      <td>41.483008</td>\n",
       "    </tr>\n",
       "  </tbody>\n",
       "</table>\n",
       "</div>"
      ],
      "text/plain": [
       "    Mouse ID Drug Regimen  Timepoint  Tumor Volume (mm3)\n",
       "309     b128    Capomulin         45           38.982878\n",
       "299     b742    Capomulin         45           38.939633\n",
       "64      f966    Capomulin         20           30.485985\n",
       "244     g288    Capomulin         45           37.074024\n",
       "360     g316    Capomulin         45           40.159220\n",
       "440     i557    Capomulin         45           47.685963\n",
       "204     i738    Capomulin         45           37.311846\n",
       "337     j119    Capomulin         45           38.125164\n",
       "317     j246    Capomulin         35           38.753265\n",
       "380     l509    Capomulin         45           41.483008"
      ]
     },
     "execution_count": 64,
     "metadata": {},
     "output_type": "execute_result"
    }
   ],
   "source": [
    "# Extract final tumor volumes for each mouse treated by Capomulin regimen:\n",
    "capomulin_final_t_vol_df=no_dupl_sorted_df[no_dupl_sorted_df['Drug Regimen'] == 'Capomulin']\n",
    "capomulin_final_t_vol_df.sort_values(['Mouse ID']).head(10)"
   ]
  },
  {
   "cell_type": "markdown",
   "metadata": {},
   "source": [
    "###### Table 3"
   ]
  },
  {
   "cell_type": "markdown",
   "metadata": {},
   "source": [
    "#### Potential Outliers for Capomulin\n",
    "\n",
    "- The lower quartile of the final tumor volumes for Capomulin regimen is: **32.38**\n",
    "\n",
    "- The upper quartile of the final tumor volumes for Capomulin regimen is: **40.16**\n",
    "\n",
    "- The interquartile range of the final tumor volumes for Capomulin regimen is: **7.78**\n",
    "\n",
    "- The median of the final tumor volumes for Capomulin regimen is: **38.13** \n",
    "\n",
    "- Values below **20.7** could be outliers.\n",
    "\n",
    "- Values above **51.83** could be outliers."
   ]
  },
  {
   "cell_type": "code",
   "execution_count": 48,
   "metadata": {},
   "outputs": [],
   "source": [
    "# Quartile and IQR calculations:\n",
    "capomulin_vol=capomulin_final_t_vol_df['Tumor Volume (mm3)']\n",
    "\n",
    "capomulin_quartiles = capomulin_vol.quantile([.25,.5,.75])\n",
    "capomulin_lowerq = capomulin_quartiles[0.25]\n",
    "capomulin_upperq = capomulin_quartiles[0.75]\n",
    "capomulin_iqr = capomulin_upperq-capomulin_lowerq\n",
    "\n",
    "#print(f\"The lower quartile of the final tumor volumes for Capomulin regimen is: {round(capomulin_lowerq,2)}\")\n",
    "#print(f\"The upper quartile of the final tumor volumes for Capomulin regimen is: {round(capomulin_upperq,2)}\")\n",
    "#print(f\"The interquartile range of the final tumor volumes for Capomulin regimen is: {round(capomulin_iqr,2)}\")\n",
    "#print(f\"The median of the final tumor volumes for Capomulin regimen is: {round(capomulin_quartiles[0.5],2)} \")\n",
    "\n",
    "# Potential outliers calculation:\n",
    "capomulin_lower_bound = capomulin_lowerq - (1.5*capomulin_iqr)\n",
    "capomulin_upper_bound = capomulin_upperq + (1.5*capomulin_iqr)\n",
    "\n",
    "#print(f\"Values below {round(capomulin_lower_bound,2)} could be outliers.\")\n",
    "#print(f\"Values above {round(capomulin_upper_bound,2)} could be outliers.\")"
   ]
  },
  {
   "cell_type": "markdown",
   "metadata": {},
   "source": [
    "***"
   ]
  },
  {
   "cell_type": "markdown",
   "metadata": {},
   "source": [
    "#### Final Tumor Volume of Each Mouse Treated with Ramicane"
   ]
  },
  {
   "cell_type": "code",
   "execution_count": 66,
   "metadata": {},
   "outputs": [
    {
     "data": {
      "text/html": [
       "<div>\n",
       "<style scoped>\n",
       "    .dataframe tbody tr th:only-of-type {\n",
       "        vertical-align: middle;\n",
       "    }\n",
       "\n",
       "    .dataframe tbody tr th {\n",
       "        vertical-align: top;\n",
       "    }\n",
       "\n",
       "    .dataframe thead th {\n",
       "        text-align: right;\n",
       "    }\n",
       "</style>\n",
       "<table border=\"1\" class=\"dataframe\">\n",
       "  <thead>\n",
       "    <tr style=\"text-align: right;\">\n",
       "      <th></th>\n",
       "      <th>Mouse ID</th>\n",
       "      <th>Drug Regimen</th>\n",
       "      <th>Timepoint</th>\n",
       "      <th>Tumor Volume (mm3)</th>\n",
       "    </tr>\n",
       "  </thead>\n",
       "  <tbody>\n",
       "    <tr>\n",
       "      <th>327</th>\n",
       "      <td>a411</td>\n",
       "      <td>Ramicane</td>\n",
       "      <td>45</td>\n",
       "      <td>38.407618</td>\n",
       "    </tr>\n",
       "    <tr>\n",
       "      <th>430</th>\n",
       "      <td>a444</td>\n",
       "      <td>Ramicane</td>\n",
       "      <td>45</td>\n",
       "      <td>43.047543</td>\n",
       "    </tr>\n",
       "    <tr>\n",
       "      <th>214</th>\n",
       "      <td>a520</td>\n",
       "      <td>Ramicane</td>\n",
       "      <td>45</td>\n",
       "      <td>38.810366</td>\n",
       "    </tr>\n",
       "    <tr>\n",
       "      <th>174</th>\n",
       "      <td>a644</td>\n",
       "      <td>Ramicane</td>\n",
       "      <td>45</td>\n",
       "      <td>32.978522</td>\n",
       "    </tr>\n",
       "    <tr>\n",
       "      <th>289</th>\n",
       "      <td>c458</td>\n",
       "      <td>Ramicane</td>\n",
       "      <td>30</td>\n",
       "      <td>38.342008</td>\n",
       "    </tr>\n",
       "    <tr>\n",
       "      <th>154</th>\n",
       "      <td>c758</td>\n",
       "      <td>Ramicane</td>\n",
       "      <td>45</td>\n",
       "      <td>33.397653</td>\n",
       "    </tr>\n",
       "    <tr>\n",
       "      <th>272</th>\n",
       "      <td>d251</td>\n",
       "      <td>Ramicane</td>\n",
       "      <td>45</td>\n",
       "      <td>37.311236</td>\n",
       "    </tr>\n",
       "    <tr>\n",
       "      <th>400</th>\n",
       "      <td>e662</td>\n",
       "      <td>Ramicane</td>\n",
       "      <td>45</td>\n",
       "      <td>40.659006</td>\n",
       "    </tr>\n",
       "    <tr>\n",
       "      <th>49</th>\n",
       "      <td>g791</td>\n",
       "      <td>Ramicane</td>\n",
       "      <td>45</td>\n",
       "      <td>29.128472</td>\n",
       "    </tr>\n",
       "    <tr>\n",
       "      <th>184</th>\n",
       "      <td>i177</td>\n",
       "      <td>Ramicane</td>\n",
       "      <td>45</td>\n",
       "      <td>33.562402</td>\n",
       "    </tr>\n",
       "  </tbody>\n",
       "</table>\n",
       "</div>"
      ],
      "text/plain": [
       "    Mouse ID Drug Regimen  Timepoint  Tumor Volume (mm3)\n",
       "327     a411     Ramicane         45           38.407618\n",
       "430     a444     Ramicane         45           43.047543\n",
       "214     a520     Ramicane         45           38.810366\n",
       "174     a644     Ramicane         45           32.978522\n",
       "289     c458     Ramicane         30           38.342008\n",
       "154     c758     Ramicane         45           33.397653\n",
       "272     d251     Ramicane         45           37.311236\n",
       "400     e662     Ramicane         45           40.659006\n",
       "49      g791     Ramicane         45           29.128472\n",
       "184     i177     Ramicane         45           33.562402"
      ]
     },
     "execution_count": 66,
     "metadata": {},
     "output_type": "execute_result"
    }
   ],
   "source": [
    "# Extract final tumor volumes for each mouse treated by Ramicane regimen:\n",
    "ramicane_final_t_vol_df=no_dupl_sorted_df[no_dupl_sorted_df['Drug Regimen'] == 'Ramicane']\n",
    "ramicane_final_t_vol_df.sort_values(['Mouse ID']).head(10)"
   ]
  },
  {
   "cell_type": "markdown",
   "metadata": {},
   "source": [
    "###### Table 4"
   ]
  },
  {
   "cell_type": "markdown",
   "metadata": {},
   "source": [
    "#### Potential Outliers for Ramicane\n",
    "\n",
    "- The lower quartile of the final tumor volumes for Ramicane regimen is: **31.56**\n",
    "- The upper quartile of the final tumor volumes for Ramicane regimen is: **40.66**\n",
    "- The interquartile range of the final tumor volumes for Ramicane regimen is: **9.1**\n",
    "- The median of the final tumor volumes for Ramicane regimen is: **36.56** \n",
    "- Values below **17.91** could be outliers.\n",
    "- Values above **54.31** could be outliers."
   ]
  },
  {
   "cell_type": "code",
   "execution_count": 50,
   "metadata": {},
   "outputs": [],
   "source": [
    "# Quartile and IQR calculations:\n",
    "ramicane_vol=ramicane_final_t_vol_df['Tumor Volume (mm3)']\n",
    "\n",
    "ramicane_quartiles = ramicane_vol.quantile([.25,.5,.75])\n",
    "ramicane_lowerq = ramicane_quartiles[0.25]\n",
    "ramicane_upperq = ramicane_quartiles[0.75]\n",
    "ramicane_iqr = ramicane_upperq-ramicane_lowerq\n",
    "\n",
    "#print(f\"The lower quartile of the final tumor volumes for Ramicane regimen is: {round(ramicane_lowerq,2)}\")\n",
    "#print(f\"The upper quartile of the final tumor volumes for Ramicane regimen is: {round(ramicane_upperq,2)}\")\n",
    "#print(f\"The interquartile range of the final tumor volumes for Ramicane regimen is: {round(ramicane_iqr,2)}\")\n",
    "#print(f\"The median of the final tumor volumes for Ramicane regimen is: {round(ramicane_quartiles[0.5],2)} \")\n",
    "\n",
    "# Potential outliers calculation:\n",
    "ramicane_lower_bound = ramicane_lowerq - (1.5*ramicane_iqr)\n",
    "ramicane_upper_bound = ramicane_upperq + (1.5*ramicane_iqr)\n",
    "\n",
    "#print(f\"Values below {round(ramicane_lower_bound,2)} could be outliers.\")    \n",
    "#print(f\"Values above {round(ramicane_upper_bound,2)} could be outliers.\")"
   ]
  },
  {
   "cell_type": "markdown",
   "metadata": {},
   "source": [
    "***"
   ]
  },
  {
   "cell_type": "markdown",
   "metadata": {},
   "source": [
    "#### Final Tumor Volume of Each Mouse Treated with Infubinol"
   ]
  },
  {
   "cell_type": "code",
   "execution_count": 51,
   "metadata": {},
   "outputs": [
    {
     "data": {
      "text/html": [
       "<div>\n",
       "<style scoped>\n",
       "    .dataframe tbody tr th:only-of-type {\n",
       "        vertical-align: middle;\n",
       "    }\n",
       "\n",
       "    .dataframe tbody tr th {\n",
       "        vertical-align: top;\n",
       "    }\n",
       "\n",
       "    .dataframe thead th {\n",
       "        text-align: right;\n",
       "    }\n",
       "</style>\n",
       "<table border=\"1\" class=\"dataframe\">\n",
       "  <thead>\n",
       "    <tr style=\"text-align: right;\">\n",
       "      <th></th>\n",
       "      <th>Mouse ID</th>\n",
       "      <th>Drug Regimen</th>\n",
       "      <th>Timepoint</th>\n",
       "      <th>Tumor Volume (mm3)</th>\n",
       "    </tr>\n",
       "  </thead>\n",
       "  <tbody>\n",
       "    <tr>\n",
       "      <th>463</th>\n",
       "      <td>a203</td>\n",
       "      <td>Infubinol</td>\n",
       "      <td>45</td>\n",
       "      <td>67.973419</td>\n",
       "    </tr>\n",
       "    <tr>\n",
       "      <th>473</th>\n",
       "      <td>a251</td>\n",
       "      <td>Infubinol</td>\n",
       "      <td>45</td>\n",
       "      <td>65.525743</td>\n",
       "    </tr>\n",
       "    <tr>\n",
       "      <th>530</th>\n",
       "      <td>a577</td>\n",
       "      <td>Infubinol</td>\n",
       "      <td>30</td>\n",
       "      <td>57.031862</td>\n",
       "    </tr>\n",
       "    <tr>\n",
       "      <th>540</th>\n",
       "      <td>a685</td>\n",
       "      <td>Infubinol</td>\n",
       "      <td>45</td>\n",
       "      <td>66.083066</td>\n",
       "    </tr>\n",
       "    <tr>\n",
       "      <th>637</th>\n",
       "      <td>c139</td>\n",
       "      <td>Infubinol</td>\n",
       "      <td>45</td>\n",
       "      <td>72.226731</td>\n",
       "    </tr>\n",
       "    <tr>\n",
       "      <th>669</th>\n",
       "      <td>c326</td>\n",
       "      <td>Infubinol</td>\n",
       "      <td>5</td>\n",
       "      <td>36.321346</td>\n",
       "    </tr>\n",
       "    <tr>\n",
       "      <th>742</th>\n",
       "      <td>c895</td>\n",
       "      <td>Infubinol</td>\n",
       "      <td>30</td>\n",
       "      <td>60.969711</td>\n",
       "    </tr>\n",
       "    <tr>\n",
       "      <th>800</th>\n",
       "      <td>e476</td>\n",
       "      <td>Infubinol</td>\n",
       "      <td>45</td>\n",
       "      <td>62.435404</td>\n",
       "    </tr>\n",
       "    <tr>\n",
       "      <th>834</th>\n",
       "      <td>f345</td>\n",
       "      <td>Infubinol</td>\n",
       "      <td>45</td>\n",
       "      <td>60.918767</td>\n",
       "    </tr>\n",
       "    <tr>\n",
       "      <th>949</th>\n",
       "      <td>i386</td>\n",
       "      <td>Infubinol</td>\n",
       "      <td>40</td>\n",
       "      <td>67.289621</td>\n",
       "    </tr>\n",
       "  </tbody>\n",
       "</table>\n",
       "</div>"
      ],
      "text/plain": [
       "    Mouse ID Drug Regimen  Timepoint  Tumor Volume (mm3)\n",
       "463     a203    Infubinol         45           67.973419\n",
       "473     a251    Infubinol         45           65.525743\n",
       "530     a577    Infubinol         30           57.031862\n",
       "540     a685    Infubinol         45           66.083066\n",
       "637     c139    Infubinol         45           72.226731\n",
       "669     c326    Infubinol          5           36.321346\n",
       "742     c895    Infubinol         30           60.969711\n",
       "800     e476    Infubinol         45           62.435404\n",
       "834     f345    Infubinol         45           60.918767\n",
       "949     i386    Infubinol         40           67.289621"
      ]
     },
     "execution_count": 51,
     "metadata": {},
     "output_type": "execute_result"
    }
   ],
   "source": [
    "# Extract final tumor volumes for each mouse treated by Infubinol regimen:\n",
    "infubinol_final_t_vol_df=no_dupl_sorted_df[no_dupl_sorted_df['Drug Regimen'] == 'Infubinol']\n",
    "infubinol_final_t_vol_df.sort_values(['Mouse ID']).head(10)"
   ]
  },
  {
   "cell_type": "markdown",
   "metadata": {},
   "source": [
    "###### Table 5"
   ]
  },
  {
   "cell_type": "markdown",
   "metadata": {},
   "source": [
    "#### Potential Outliers for Infubinol\n",
    "\n",
    "- The lower quartile of the final tumor volumes for Infubinol regimen is: **54.05**\n",
    "- The upper quartile of the final tumor volumes for Infubinol regimen is: **65.53**\n",
    "- The interquartile range of the final tumor volumes for Infubinol regimen is: **11.48**\n",
    "- The median of the final tumor volumes for Infubinol regimen is: **60.17** \n",
    "- Values below **36.83** could be outliers.\n",
    "- Values above **82.74** could be outliers."
   ]
  },
  {
   "cell_type": "code",
   "execution_count": 52,
   "metadata": {},
   "outputs": [],
   "source": [
    "# Quartile and IQR calculations:\n",
    "infubinol_vol=infubinol_final_t_vol_df['Tumor Volume (mm3)']\n",
    "\n",
    "infubinol_quartiles = infubinol_vol.quantile([.25,.5,.75])\n",
    "infubinol_lowerq = infubinol_quartiles[0.25]\n",
    "infubinol_upperq = infubinol_quartiles[0.75]\n",
    "infubinol_iqr = infubinol_upperq-infubinol_lowerq\n",
    "\n",
    "#print(f\"The lower quartile of the final tumor volumes for Infubinol regimen is: {round(infubinol_lowerq,2)}\")\n",
    "#print(f\"The upper quartile of the final tumor volumes for Infubinol regimen is: {round(infubinol_upperq,2)}\")\n",
    "#print(f\"The interquartile range of the final tumor volumes for Infubinol regimen is: {round(infubinol_iqr,2)}\")\n",
    "#print(f\"The median of the final tumor volumes for Infubinol regimen is: {round(infubinol_quartiles[0.5],2)} \")\n",
    "\n",
    "# Potential outliers calculation:\n",
    "infubinol_lower_bound = infubinol_lowerq - (1.5*infubinol_iqr)\n",
    "infubinol_upper_bound = infubinol_upperq + (1.5*infubinol_iqr)\n",
    "\n",
    "#print(f\"Values below {round(infubinol_lower_bound,2)} could be outliers.\")\n",
    "#print(f\"Values above {round(infubinol_upper_bound,2)} could be outliers.\")"
   ]
  },
  {
   "cell_type": "markdown",
   "metadata": {},
   "source": [
    "***"
   ]
  },
  {
   "cell_type": "markdown",
   "metadata": {},
   "source": [
    "#### Final Tumor Volume of Each Mouse Treated with Ceftamin"
   ]
  },
  {
   "cell_type": "code",
   "execution_count": 53,
   "metadata": {},
   "outputs": [
    {
     "data": {
      "text/html": [
       "<div>\n",
       "<style scoped>\n",
       "    .dataframe tbody tr th:only-of-type {\n",
       "        vertical-align: middle;\n",
       "    }\n",
       "\n",
       "    .dataframe tbody tr th {\n",
       "        vertical-align: top;\n",
       "    }\n",
       "\n",
       "    .dataframe thead th {\n",
       "        text-align: right;\n",
       "    }\n",
       "</style>\n",
       "<table border=\"1\" class=\"dataframe\">\n",
       "  <thead>\n",
       "    <tr style=\"text-align: right;\">\n",
       "      <th></th>\n",
       "      <th>Mouse ID</th>\n",
       "      <th>Drug Regimen</th>\n",
       "      <th>Timepoint</th>\n",
       "      <th>Tumor Volume (mm3)</th>\n",
       "    </tr>\n",
       "  </thead>\n",
       "  <tbody>\n",
       "    <tr>\n",
       "      <th>493</th>\n",
       "      <td>a275</td>\n",
       "      <td>Ceftamin</td>\n",
       "      <td>45</td>\n",
       "      <td>62.999356</td>\n",
       "    </tr>\n",
       "    <tr>\n",
       "      <th>594</th>\n",
       "      <td>b447</td>\n",
       "      <td>Ceftamin</td>\n",
       "      <td>0</td>\n",
       "      <td>45.000000</td>\n",
       "    </tr>\n",
       "    <tr>\n",
       "      <th>600</th>\n",
       "      <td>b487</td>\n",
       "      <td>Ceftamin</td>\n",
       "      <td>25</td>\n",
       "      <td>56.057749</td>\n",
       "    </tr>\n",
       "    <tr>\n",
       "      <th>617</th>\n",
       "      <td>b759</td>\n",
       "      <td>Ceftamin</td>\n",
       "      <td>30</td>\n",
       "      <td>55.742829</td>\n",
       "    </tr>\n",
       "    <tr>\n",
       "      <th>840</th>\n",
       "      <td>f436</td>\n",
       "      <td>Ceftamin</td>\n",
       "      <td>15</td>\n",
       "      <td>48.722078</td>\n",
       "    </tr>\n",
       "    <tr>\n",
       "      <th>940</th>\n",
       "      <td>h531</td>\n",
       "      <td>Ceftamin</td>\n",
       "      <td>5</td>\n",
       "      <td>47.784682</td>\n",
       "    </tr>\n",
       "    <tr>\n",
       "      <th>993</th>\n",
       "      <td>j296</td>\n",
       "      <td>Ceftamin</td>\n",
       "      <td>45</td>\n",
       "      <td>61.849023</td>\n",
       "    </tr>\n",
       "    <tr>\n",
       "      <th>1033</th>\n",
       "      <td>k210</td>\n",
       "      <td>Ceftamin</td>\n",
       "      <td>45</td>\n",
       "      <td>68.923185</td>\n",
       "    </tr>\n",
       "    <tr>\n",
       "      <th>1112</th>\n",
       "      <td>l471</td>\n",
       "      <td>Ceftamin</td>\n",
       "      <td>45</td>\n",
       "      <td>67.748662</td>\n",
       "    </tr>\n",
       "    <tr>\n",
       "      <th>1119</th>\n",
       "      <td>l490</td>\n",
       "      <td>Ceftamin</td>\n",
       "      <td>30</td>\n",
       "      <td>57.918381</td>\n",
       "    </tr>\n",
       "  </tbody>\n",
       "</table>\n",
       "</div>"
      ],
      "text/plain": [
       "     Mouse ID Drug Regimen  Timepoint  Tumor Volume (mm3)\n",
       "493      a275     Ceftamin         45           62.999356\n",
       "594      b447     Ceftamin          0           45.000000\n",
       "600      b487     Ceftamin         25           56.057749\n",
       "617      b759     Ceftamin         30           55.742829\n",
       "840      f436     Ceftamin         15           48.722078\n",
       "940      h531     Ceftamin          5           47.784682\n",
       "993      j296     Ceftamin         45           61.849023\n",
       "1033     k210     Ceftamin         45           68.923185\n",
       "1112     l471     Ceftamin         45           67.748662\n",
       "1119     l490     Ceftamin         30           57.918381"
      ]
     },
     "execution_count": 53,
     "metadata": {},
     "output_type": "execute_result"
    }
   ],
   "source": [
    "# Extract final tumor volumes for each mouse treated by Ceftamin regimen:\n",
    "ceftamin_final_t_vol_df=no_dupl_sorted_df[no_dupl_sorted_df['Drug Regimen'] == 'Ceftamin']\n",
    "ceftamin_final_t_vol_df.sort_values(['Mouse ID']).head(10)"
   ]
  },
  {
   "cell_type": "markdown",
   "metadata": {},
   "source": [
    "###### Table 6"
   ]
  },
  {
   "cell_type": "markdown",
   "metadata": {},
   "source": [
    "#### Potential Outliers for Ceftamin\n",
    "\n",
    "- The lower quartile of the final tumor volumes for Ceftamin regimen is: **48.72**\n",
    "- The upper quartile of the final tumor volumes for Ceftamin regimen is: **64.3**\n",
    "- The interquartile range of the final tumor volumes for Ceftamin regimen is: **15.58**\n",
    "- The median of the final tumor volumes for Ceftamin regimen is: **59.85** \n",
    "- Values below **25.36** could be outliers.\n",
    "- Values above **87.67** could be outliers."
   ]
  },
  {
   "cell_type": "code",
   "execution_count": 54,
   "metadata": {},
   "outputs": [],
   "source": [
    "# Quartile and IQR calculations:\n",
    "ceftamin_vol=ceftamin_final_t_vol_df['Tumor Volume (mm3)']\n",
    "\n",
    "ceftamin_quartiles = ceftamin_vol.quantile([.25,.5,.75])\n",
    "ceftamin_lowerq = ceftamin_quartiles[0.25]\n",
    "ceftamin_upperq = ceftamin_quartiles[0.75]\n",
    "ceftamin_iqr = ceftamin_upperq-ceftamin_lowerq\n",
    "\n",
    "#print(f\"The lower quartile of the final tumor volumes for Ceftamin regimen is: {round(ceftamin_lowerq,2)}\")\n",
    "#print(f\"The upper quartile of the final tumor volumes for Ceftamin regimen is: {round(ceftamin_upperq,2)}\")\n",
    "#print(f\"The interquartile range of the final tumor volumes for Ceftamin regimen is: {round(ceftamin_iqr,2)}\")\n",
    "#print(f\"The median of the final tumor volumes for Ceftamin regimen is: {round(ceftamin_quartiles[0.5],2)} \")\n",
    "\n",
    "# Potential outliers calculation:\n",
    "ceftamin_lower_bound = ceftamin_lowerq - (1.5*ceftamin_iqr)\n",
    "ceftamin_upper_bound = ceftamin_upperq + (1.5*ceftamin_iqr)\n",
    "\n",
    "#print(f\"Values below {round(ceftamin_lower_bound,2)} could be outliers.\")\n",
    "#print(f\"Values above {round(ceftamin_upper_bound,2)} could be outliers.\")"
   ]
  },
  {
   "cell_type": "markdown",
   "metadata": {},
   "source": [
    "***"
   ]
  },
  {
   "cell_type": "markdown",
   "metadata": {},
   "source": [
    "#### Potential Outliers of The Final Tumor Volumes For All Four Treatment Regimens"
   ]
  },
  {
   "cell_type": "code",
   "execution_count": 55,
   "metadata": {},
   "outputs": [
    {
     "data": {
      "image/png": "[encoded data removed]",
      "text/plain": [
       "<Figure size 648x432 with 1 Axes>"
      ]
     },
     "metadata": {
      "needs_background": "light"
     },
     "output_type": "display_data"
    }
   ],
   "source": [
    "# Final tumor volumes data for 4 top treatments:\n",
    "capomulin_vol=capomulin_final_t_vol_df['Tumor Volume (mm3)']\n",
    "ramicane_vol=ramicane_final_t_vol_df['Tumor Volume (mm3)']\n",
    "infubinol_vol=infubinol_final_t_vol_df['Tumor Volume (mm3)']\n",
    "ceftamin_vol=ceftamin_final_t_vol_df['Tumor Volume (mm3)']\n",
    "\n",
    "# Combine final tumor volumes data for 4 top treatments into a list: \n",
    "volumes=[capomulin_vol, ramicane_vol, infubinol_vol, ceftamin_vol]\n",
    "\n",
    "# Outliers plot of the final tumor volumes:\n",
    "fig, ax=plt.subplots(1, figsize=(9, 6))\n",
    "bp=ax.boxplot(volumes, patch_artist=True)\n",
    "ax.set_title('Potential Outliers of The Final Tumor Volumes For Top Four Treatment Regimens', fontsize=20)\n",
    "ax.set_ylabel('Final Tumor Volume (mm3)', fontsize=16, color='black')\n",
    "ax.set_xticklabels(['Capomulin', 'Ramicane', 'Infubinol', 'Ceftamin'], fontsize=16, color='black')\n",
    "\n",
    "# Change fill color:\n",
    "for box in bp['boxes']:\n",
    "    box.set(facecolor='royalblue')\n",
    "\n",
    "# Change color and linewidth of the medians:\n",
    "for median in bp['medians']:\n",
    "    median.set(color='lightsteelblue', linewidth=3)\n",
    "\n",
    "# Change the fill and style of fliers:\n",
    "for flier in bp['fliers']:\n",
    "    flier.set(marker='o', markersize=10, markerfacecolor='crimson', alpha=1)\n",
    "\n",
    "plt.show()"
   ]
  },
  {
   "cell_type": "markdown",
   "metadata": {},
   "source": [
    "###### Fig. 3"
   ]
  },
  {
   "cell_type": "markdown",
   "metadata": {},
   "source": [
    "***"
   ]
  },
  {
   "cell_type": "markdown",
   "metadata": {},
   "source": [
    "### Tumor Volume Change over Period of Study of a Random Mouse Treated with Capomulin"
   ]
  },
  {
   "cell_type": "code",
   "execution_count": 56,
   "metadata": {},
   "outputs": [],
   "source": [
    "# Extracting data for a target mouse treated with Capomulin:\n",
    "target_mouse_sorted=sorted_mouseid_timepoint_df.loc[sorted_mouseid_timepoint_df['Mouse ID']=='s185',:]\n",
    "target_mouse=target_mouse_sorted.sort_values('Timepoint')\n",
    "#target_mouse\n",
    "\n",
    "# Redusing dataframe to columns 'Timepoint' and 'Tumor Volume (mm3)':\n",
    "target_mouse_plot=target_mouse[['Timepoint','Tumor Volume (mm3)']]\n",
    "#target_mouse_plot\n",
    "\n",
    "# Change index to timepoints:\n",
    "target_mouse_plot=target_mouse_plot.set_index('Timepoint')\n",
    "#target_mouse_plot"
   ]
  },
  {
   "cell_type": "markdown",
   "metadata": {},
   "source": [
    "***"
   ]
  },
  {
   "cell_type": "markdown",
   "metadata": {},
   "source": [
    "#### Change of Tumor Volume over Period of Study for Mouse ID s185 Treated with Capomulin"
   ]
  },
  {
   "cell_type": "code",
   "execution_count": 59,
   "metadata": {},
   "outputs": [
    {
     "data": {
      "image/png": "[encoded data removed]",
      "text/plain": [
       "<Figure size 864x504 with 1 Axes>"
      ]
     },
     "metadata": {
      "needs_background": "light"
     },
     "output_type": "display_data"
    }
   ],
   "source": [
    "# Plot the chart:\n",
    "target_mouse_plot.plot(linewidth=3, color='royalblue', figsize=(12, 7))\n",
    "\n",
    "# Set x-label, y-label, and a title:\n",
    "plt.title('Change of Tumor Volume over Period of Study for Mouse ID s185 Treated with Capomulin', fontsize=24)\n",
    "plt.xlabel('Timepoint', fontsize=20, color='black')\n",
    "plt.ylabel('Tumor Volume (mm3)', fontsize=20, color='black')\n",
    "plt.legend('',frameon=False)\n",
    "plt.axis(\"equal\")\n",
    "\n",
    "plt.show()"
   ]
  },
  {
   "cell_type": "markdown",
   "metadata": {},
   "source": [
    "###### Fig. 4"
   ]
  },
  {
   "cell_type": "markdown",
   "metadata": {},
   "source": [
    "***"
   ]
  },
  {
   "cell_type": "markdown",
   "metadata": {},
   "source": [
    "### Mouse Weight vs Average Tumor Volume for The Capomulin Treatment Regimen"
   ]
  },
  {
   "cell_type": "code",
   "execution_count": 60,
   "metadata": {},
   "outputs": [
    {
     "data": {
      "text/html": [
       "<div>\n",
       "<style scoped>\n",
       "    .dataframe tbody tr th:only-of-type {\n",
       "        vertical-align: middle;\n",
       "    }\n",
       "\n",
       "    .dataframe tbody tr th {\n",
       "        vertical-align: top;\n",
       "    }\n",
       "\n",
       "    .dataframe thead th {\n",
       "        text-align: right;\n",
       "    }\n",
       "</style>\n",
       "<table border=\"1\" class=\"dataframe\">\n",
       "  <thead>\n",
       "    <tr style=\"text-align: right;\">\n",
       "      <th></th>\n",
       "      <th>Mouse ID</th>\n",
       "      <th>Weight (g)</th>\n",
       "      <th>Avg Tumor Volume (mm3)</th>\n",
       "    </tr>\n",
       "  </thead>\n",
       "  <tbody>\n",
       "    <tr>\n",
       "      <th>14</th>\n",
       "      <td>b128</td>\n",
       "      <td>22</td>\n",
       "      <td>41.963636</td>\n",
       "    </tr>\n",
       "    <tr>\n",
       "      <th>13</th>\n",
       "      <td>b742</td>\n",
       "      <td>21</td>\n",
       "      <td>40.083699</td>\n",
       "    </tr>\n",
       "    <tr>\n",
       "      <th>3</th>\n",
       "      <td>f966</td>\n",
       "      <td>17</td>\n",
       "      <td>36.505973</td>\n",
       "    </tr>\n",
       "    <tr>\n",
       "      <th>11</th>\n",
       "      <td>g288</td>\n",
       "      <td>19</td>\n",
       "      <td>41.990097</td>\n",
       "    </tr>\n",
       "    <tr>\n",
       "      <th>19</th>\n",
       "      <td>g316</td>\n",
       "      <td>22</td>\n",
       "      <td>44.613344</td>\n",
       "    </tr>\n",
       "  </tbody>\n",
       "</table>\n",
       "</div>"
      ],
      "text/plain": [
       "   Mouse ID  Weight (g)  Avg Tumor Volume (mm3)\n",
       "14     b128          22               41.963636\n",
       "13     b742          21               40.083699\n",
       "3      f966          17               36.505973\n",
       "11     g288          19               41.990097\n",
       "19     g316          22               44.613344"
      ]
     },
     "execution_count": 60,
     "metadata": {},
     "output_type": "execute_result"
    }
   ],
   "source": [
    "# Extruct columns of interest from original data frame:\n",
    "new_drr2_df=drr[['Mouse ID','Drug Regimen','Weight (g)','Tumor Volume (mm3)']]\n",
    "#new_drr2_df.head(10)\n",
    "\n",
    "# Extract Capomulin data only:\n",
    "capomulin_weight_df=new_drr2_df[new_drr2_df['Drug Regimen'] == 'Capomulin']\n",
    "#capomulin_weight_df\n",
    "\n",
    "# Calculate tumor volume average for each mouse:\n",
    "av_t_vol=capomulin_weight_df.groupby('Mouse ID')['Tumor Volume (mm3)'].mean()\n",
    "#av_t_vol\n",
    "\n",
    "# Reset index for new data:\n",
    "av_t_vol=av_t_vol.reset_index()\n",
    "#av_t_vol\n",
    "\n",
    "# Rename 'Tumor Volume (mm3)' column:\n",
    "av_t_vol=av_t_vol.rename(columns={'Tumor Volume (mm3)':'Avg Tumor Volume (mm3)'})\n",
    "#av_t_vol #*****\n",
    "\n",
    "# Extract columns of interest and remove duplicates:\n",
    "capomulin_weight2_df=capomulin_weight_df[['Mouse ID', 'Weight (g)']].drop_duplicates(subset='Mouse ID')\n",
    "#capomulin_weight2_df #*****\n",
    "\n",
    "# Merge data frame with mouse weight and data frame with avg tumor volume into a single dataset and sort by mouse ID:\n",
    "mouse_avg_t_vol_weight_df=pd.merge(capomulin_weight2_df, av_t_vol, on=\"Mouse ID\")\n",
    "mouse_avg_t_vol_weight_df.sort_values('Mouse ID').head()"
   ]
  },
  {
   "cell_type": "markdown",
   "metadata": {},
   "source": [
    "###### Table 7"
   ]
  },
  {
   "cell_type": "code",
   "execution_count": 61,
   "metadata": {},
   "outputs": [
    {
     "data": {
      "image/png": "[encoded data removed]",
      "text/plain": [
       "<Figure size 720x504 with 1 Axes>"
      ]
     },
     "metadata": {
      "needs_background": "light"
     },
     "output_type": "display_data"
    }
   ],
   "source": [
    "# Generate a scatter plot of mouse weight vs average tumor volume for the Capomulin treatment regimen:\n",
    "plt.figure(figsize=(10,7))\n",
    "plt.scatter(mouse_avg_t_vol_weight_df.iloc[:,1],mouse_avg_t_vol_weight_df.iloc[:,2], color='royalblue', s=[70], alpha=1)\n",
    "plt.xlabel('Mouse Weight (g)', fontsize=16, color='black')\n",
    "plt.ylabel('Avg Tumor Volume (mm3)', fontsize=16, color='black')\n",
    "#size=[70]\n",
    "plt.title('Mouse Weight vs Average Tumor Volume for Capomulin Treatment Regimen', fontsize=20)\n",
    "\n",
    "# Add the linear regression equation and line to plot:\n",
    "x_values=mouse_avg_t_vol_weight_df['Weight (g)']\n",
    "y_values=mouse_avg_t_vol_weight_df['Avg Tumor Volume (mm3)']\n",
    "(slope, intercept,  rvalue, pvalue, stderr)=linregress(x_values, y_values)\n",
    "regress_values = x_values * slope + intercept\n",
    "plt.plot(x_values,regress_values,'lightsteelblue')\n",
    "line_eq = \"y = \" + str(round(slope,2)) + \"x + \" + str(round(intercept,2))\n",
    "#print(f'Linear regression equation: {line_eq}')\n",
    "\n",
    "plt.show()\n",
    "#plt.savefig('pic.png', dpi=80)"
   ]
  },
  {
   "cell_type": "markdown",
   "metadata": {},
   "source": [
    "###### Fig. 5"
   ]
  },
  {
   "cell_type": "markdown",
   "metadata": {},
   "source": [
    "#### The correlation between both factors is 0.84\n",
    "\n",
    "#### Linear regression equation: y = 0.95x + 21.55"
   ]
  },
  {
   "cell_type": "code",
   "execution_count": 62,
   "metadata": {},
   "outputs": [],
   "source": [
    "# Compute the Pearson correlation coefficient between \"Mouse Weight\" and \"Avg Tumor Volume\":\n",
    "mouse_weight=mouse_avg_t_vol_weight_df.iloc[:,1]\n",
    "volume=mouse_avg_t_vol_weight_df.iloc[:,2]\n",
    "correlation = sts.pearsonr(mouse_weight,volume)\n",
    "\n",
    "#print(f\"The correlation between both factors is {round(correlation[0],2)}\")"
   ]
  }
 ],
 "metadata": {
  "kernelspec": {
   "display_name": "Python [conda env:PythonData]",
   "language": "python",
   "name": "conda-env-PythonData-py"
  },
  "language_info": {
   "codemirror_mode": {
    "name": "ipython",
    "version": 3
   },
   "file_extension": ".py",
   "mimetype": "text/x-python",
   "name": "python",
   "nbconvert_exporter": "python",
   "pygments_lexer": "ipython3",
   "version": "3.7.0"
  }
 },
 "nbformat": 4,
 "nbformat_minor": 2
}
